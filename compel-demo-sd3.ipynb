{
 "cells": [
  {
   "cell_type": "code",
   "id": "initial_id",
   "metadata": {
    "collapsed": true,
    "ExecuteTime": {
     "end_time": "2024-06-29T19:09:06.044868Z",
     "start_time": "2024-06-29T19:09:00.815184Z"
    }
   },
   "source": [
    "import torch\n",
    "from compel import Compel, ReturnedEmbeddingsType\n",
    "from diffusers import StableDiffusion3Pipeline\n",
    "\n",
    "device='cpu'\n",
    "pipeline = StableDiffusion3Pipeline.from_pretrained(\"stabilityai/stable-diffusion-3-medium-diffusers\",\n",
    "                                             torch_dtype=torch.float16).to(device)\n"
   ],
   "outputs": [
    {
     "data": {
      "text/plain": [
       "Loading pipeline components...:   0%|          | 0/9 [00:00<?, ?it/s]"
      ],
      "application/vnd.jupyter.widget-view+json": {
       "version_major": 2,
       "version_minor": 0,
       "model_id": "2dfa14513bdd47758a85c13c4c138d53"
      }
     },
     "metadata": {},
     "output_type": "display_data"
    },
    {
     "name": "stderr",
     "output_type": "stream",
     "text": [
      "You set `add_prefix_space`. The tokenizer needs to be converted from the slow tokenizers\n"
     ]
    },
    {
     "data": {
      "text/plain": [
       "Loading checkpoint shards:   0%|          | 0/2 [00:00<?, ?it/s]"
      ],
      "application/vnd.jupyter.widget-view+json": {
       "version_major": 2,
       "version_minor": 0,
       "model_id": "981a316743e4466da3a2584d07ab00d5"
      }
     },
     "metadata": {},
     "output_type": "display_data"
    },
    {
     "name": "stderr",
     "output_type": "stream",
     "text": [
      "Pipelines loaded with `dtype=torch.float16` cannot run with `cpu` device. It is not recommended to move them to `cpu` as running them will fail. Please make sure to use an accelerator to run the pipeline in inference, due to the lack of support for`float16` operations on this device in PyTorch. Please, remove the `torch_dtype=torch.float16` argument, or use another device for inference.\n",
      "Pipelines loaded with `dtype=torch.float16` cannot run with `cpu` device. It is not recommended to move them to `cpu` as running them will fail. Please make sure to use an accelerator to run the pipeline in inference, due to the lack of support for`float16` operations on this device in PyTorch. Please, remove the `torch_dtype=torch.float16` argument, or use another device for inference.\n",
      "Pipelines loaded with `dtype=torch.float16` cannot run with `cpu` device. It is not recommended to move them to `cpu` as running them will fail. Please make sure to use an accelerator to run the pipeline in inference, due to the lack of support for`float16` operations on this device in PyTorch. Please, remove the `torch_dtype=torch.float16` argument, or use another device for inference.\n",
      "Pipelines loaded with `dtype=torch.float16` cannot run with `cpu` device. It is not recommended to move them to `cpu` as running them will fail. Please make sure to use an accelerator to run the pipeline in inference, due to the lack of support for`float16` operations on this device in PyTorch. Please, remove the `torch_dtype=torch.float16` argument, or use another device for inference.\n",
      "Pipelines loaded with `dtype=torch.float16` cannot run with `cpu` device. It is not recommended to move them to `cpu` as running them will fail. Please make sure to use an accelerator to run the pipeline in inference, due to the lack of support for`float16` operations on this device in PyTorch. Please, remove the `torch_dtype=torch.float16` argument, or use another device for inference.\n"
     ]
    }
   ],
   "execution_count": 1
  },
  {
   "metadata": {
    "ExecuteTime": {
     "end_time": "2024-06-29T19:14:25.014785Z",
     "start_time": "2024-06-29T19:14:15.861270Z"
    }
   },
   "cell_type": "code",
   "source": [
    "text_encoder_3 = pipeline.text_encoder_3\n",
    "tokenizer_3 = pipeline.tokenizer_3\n",
    "\n",
    "prompt = \"this is a test\"\n",
    "tokenized_prompt = tokenizer_3(prompt)\n",
    "print(tokenized_prompt)\n",
    "encoded_prompt = text_encoder_3(input_ids=torch.tensor([tokenized_prompt.input_ids]))\n",
    "print(encoded_prompt)"
   ],
   "id": "4c548640d7462ce3",
   "outputs": [
    {
     "name": "stdout",
     "output_type": "stream",
     "text": [
      "{'input_ids': [48, 19, 3, 9, 794, 1], 'attention_mask': [1, 1, 1, 1, 1, 1]}\n",
      "BaseModelOutputWithPastAndCrossAttentions(last_hidden_state=tensor([[[-0.0612,  0.0337, -0.2566,  ...,  0.1877, -0.1696, -0.0392],\n",
      "         [-0.0829,  0.0253, -0.0827,  ...,  0.1368, -0.1078, -0.0515],\n",
      "         [-0.0273, -0.0858,  0.0114,  ...,  0.1357, -0.1288,  0.1129],\n",
      "         [ 0.1005,  0.0095, -0.0433,  ...,  0.1199, -0.1207,  0.0620],\n",
      "         [ 0.0103,  0.0721, -0.1135,  ..., -0.0231,  0.0177, -0.0905],\n",
      "         [-0.0044, -0.0099, -0.0007,  ..., -0.0056,  0.0084,  0.0023]]],\n",
      "       dtype=torch.float16, grad_fn=<MulBackward0>), past_key_values=None, hidden_states=None, attentions=None, cross_attentions=None)\n"
     ]
    }
   ],
   "execution_count": 9
  },
  {
   "metadata": {
    "ExecuteTime": {
     "end_time": "2024-06-29T19:14:48.965920Z",
     "start_time": "2024-06-29T19:14:48.962338Z"
    }
   },
   "cell_type": "code",
   "source": "encoded_prompt.last_hidden_state.shape",
   "id": "f68cb3d661c85383",
   "outputs": [
    {
     "data": {
      "text/plain": [
       "torch.Size([1, 6, 4096])"
      ]
     },
     "execution_count": 11,
     "metadata": {},
     "output_type": "execute_result"
    }
   ],
   "execution_count": 11
  },
  {
   "metadata": {},
   "cell_type": "code",
   "outputs": [],
   "execution_count": null,
   "source": [
    "te3(\"test\")\n",
    "compel = Compel(tokenizer=[pipeline.tokenizer, pipeline.tokenizer_2, pipeline.tokenizer_3] ,\n",
    "                text_encoder=[pipeline.text_encoder, pipeline.text_encoder_2, pipeline.text_encoder_3])\n"
   ],
   "id": "af22e189159a0c7c"
  }
 ],
 "metadata": {
  "kernelspec": {
   "display_name": "Python 3",
   "language": "python",
   "name": "python3"
  },
  "language_info": {
   "codemirror_mode": {
    "name": "ipython",
    "version": 2
   },
   "file_extension": ".py",
   "mimetype": "text/x-python",
   "name": "python",
   "nbconvert_exporter": "python",
   "pygments_lexer": "ipython2",
   "version": "2.7.6"
  }
 },
 "nbformat": 4,
 "nbformat_minor": 5
}
